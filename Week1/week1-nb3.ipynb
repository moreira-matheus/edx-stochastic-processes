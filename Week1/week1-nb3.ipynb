{
 "cells": [
  {
   "cell_type": "markdown",
   "metadata": {},
   "source": [
    "## Euler Method\n",
    "\n",
    "- First-order method:\n",
    "    - Local error: proportional to $(\\Delta t)^2$.\n",
    "    - Global error: proportional to $\\Delta t$.\n",
    "\n",
    "- Difference equation $\\rightarrow$ 1st order in $\\Delta t$\n",
    "\n",
    "$$\n",
    "y_{i+1} = y_{i} + \\displaystyle\\int_{t_i}^{t_{i+1}} f(y(\\tilde t),\\tilde t)\\ d \\tilde t \\simeq y_i + \\Delta t f_i\n",
    "$$\n",
    "\n",
    "- Simulation procedure $\\rightarrow$ explicit method\n",
    "\n",
    "$$\n",
    "\\begin{cases}\n",
    "f_i = f(t_i) \\\\\n",
    "y_i = \\Delta t f_i\n",
    "\\end{cases}\n",
    "$$\n",
    "\n",
    "- Forward difference approximation (1st order)\n",
    "\n",
    "$$\n",
    "\\left . \\displaystyle\\frac{d}{d t} y(t) \\right \\vert_{t=t_i} \\simeq \\frac{y_{i+1}-y_i}{\\Delta t}\n",
    "$$"
   ]
  },
  {
   "cell_type": "markdown",
   "metadata": {},
   "source": [
    "## Leapfrog method\n",
    "\n",
    "- Central difference approximation\n",
    "\n",
    "$$\n",
    "\\left . \\displaystyle\\frac{d}{d t} y(t) \\right \\vert_{t=t_i} \\simeq \\frac{y_{i+1}-y_i}{2\\Delta t}\n",
    "$$\n",
    "\n",
    "- Difference equation\n",
    "\n",
    "$$\n",
    "y_{i+1} = y_{i-1} + \\displaystyle\\int_{t_{i-1}}^{t_{i+1}} f(y(\\tilde t), \\tilde t)\\ d \\tilde t \\simeq y_{i-1} + 2 \\Delta t f_i\n",
    "$$\n"
   ]
  },
  {
   "cell_type": "markdown",
   "metadata": {},
   "source": [
    "***\n",
    "\n",
    "<img src='runge-kutta-2.PNG'>"
   ]
  },
  {
   "cell_type": "markdown",
   "metadata": {},
   "source": [
    "***\n",
    "\n",
    "<img src='runge-kutta-4.PNG'>"
   ]
  },
  {
   "cell_type": "markdown",
   "metadata": {},
   "source": [
    "***\n",
    "\n",
    "**A very simple problem**\n",
    "\n",
    "Numerically solve the following differential equation and determine $y(t)$ for $0 \\leq t \\leq 10$ with initial condition $y=1$ and $t=0$. Then, compare it with the analytical solution $y = e^{-t}$.\n",
    "\n",
    "$$\n",
    "\\displaystyle\\frac{d}{dt}y(t) = -y(t)\n",
    "$$\n"
   ]
  },
  {
   "cell_type": "code",
   "execution_count": 1,
   "metadata": {},
   "outputs": [],
   "source": [
    "import numpy as np\n",
    "import matplotlib.pyplot as plt\n",
    "%matplotlib inline"
   ]
  },
  {
   "cell_type": "code",
   "execution_count": 2,
   "metadata": {},
   "outputs": [],
   "source": [
    "plt.style.use('ggplot')"
   ]
  },
  {
   "cell_type": "code",
   "execution_count": 4,
   "metadata": {},
   "outputs": [
    {
     "data": {
      "image/png": "[encoded data removed]",
      "text/plain": [
       "<Figure size 432x288 with 1 Axes>"
      ]
     },
     "metadata": {},
     "output_type": "display_data"
    }
   ],
   "source": [
    "dt, tmin, tmax = 0.01, 0.0, 10.0\n",
    "step = int((tmax-tmin)/dt)\n",
    "\n",
    "t = np.linspace(tmin, tmax, step)\n",
    "y = np.zeros(step)\n",
    "ya = np.exp(-t)\n",
    "\n",
    "plt.plot(t, ya, label='Exact', lw=5)\n",
    "\n",
    "y[0] = 1.0\n",
    "for i in range(step-1):\n",
    "    y[i+1] = y[i] - dt * y[i]\n",
    "\n",
    "plt.plot(t, y, ls='--', lw=3, label='Numerical')\n",
    "\n",
    "plt.plot(t, y/ya, label='Ratio')\n",
    "\n",
    "plt.legend()\n",
    "plt.show()"
   ]
  },
  {
   "cell_type": "code",
   "execution_count": null,
   "metadata": {},
   "outputs": [],
   "source": []
  }
 ],
 "metadata": {
  "kernelspec": {
   "display_name": "Python 3",
   "language": "python",
   "name": "python3"
  },
  "language_info": {
   "codemirror_mode": {
    "name": "ipython",
    "version": 3
   },
   "file_extension": ".py",
   "mimetype": "text/x-python",
   "name": "python",
   "nbconvert_exporter": "python",
   "pygments_lexer": "ipython3",
   "version": "3.7.3"
  }
 },
 "nbformat": 4,
 "nbformat_minor": 2
}
